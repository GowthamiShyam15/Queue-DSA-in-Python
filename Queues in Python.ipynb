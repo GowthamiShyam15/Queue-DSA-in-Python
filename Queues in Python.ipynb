{
 "cells": [
  {
   "cell_type": "markdown",
   "id": "5e9e44bd",
   "metadata": {},
   "source": [
    "# Queues"
   ]
  },
  {
   "cell_type": "markdown",
   "id": "7d1093d8",
   "metadata": {},
   "source": [
    "<h2>Implementing QUEUE using list</h2>"
   ]
  },
  {
   "cell_type": "code",
   "execution_count": 3,
   "id": "2f6fe199",
   "metadata": {},
   "outputs": [
    {
     "name": "stdout",
     "output_type": "stream",
     "text": [
      "Initial queue\n",
      "['a', 'b', 'c']\n",
      "\n",
      "Elements dequeued from queue\n",
      "a\n",
      "b\n",
      "c\n",
      "\n",
      "Queue after removing elements\n",
      "[]\n"
     ]
    }
   ],
   "source": [
    "# Python program to \n",
    "# demonstrate queue implementation\n",
    "# using list\n",
    "  \n",
    "# Initializing a queue\n",
    "queue = []\n",
    "  \n",
    "# Adding elements to the queue\n",
    "queue.append('a')\n",
    "queue.append('b')\n",
    "queue.append('c')\n",
    "  \n",
    "print(\"Initial queue\")\n",
    "print(queue)\n",
    "  \n",
    "# Removing elements from the queue\n",
    "print(\"\\nElements dequeued from queue\")\n",
    "print(queue.pop(0))\n",
    "print(queue.pop(0))\n",
    "print(queue.pop(0))\n",
    "  \n",
    "print(\"\\nQueue after removing elements\")\n",
    "print(queue)\n",
    "  \n",
    "# Uncommenting print(queue.pop(0))\n",
    "# will raise and IndexError\n",
    "# as the queue is now empty"
   ]
  },
  {
   "cell_type": "code",
   "execution_count": 4,
   "id": "74488aab",
   "metadata": {},
   "outputs": [
    {
     "name": "stdout",
     "output_type": "stream",
     "text": [
      "Initial queue\n",
      "[30, 20, 10]\n",
      "\n",
      "Elements dequeued from queue\n",
      "10\n",
      "20\n",
      "30\n",
      "\n",
      "Queue after removing elements\n",
      "[]\n"
     ]
    }
   ],
   "source": [
    "# Python program to \n",
    "# demonstrate queue implementation\n",
    "# using list\n",
    "  \n",
    "# Initializing a queue\n",
    "queue = []\n",
    "  \n",
    "# Adding elements to the queue\n",
    "queue.insert(0,10)\n",
    "queue.insert(0,20)\n",
    "queue.insert(0,30)\n",
    "  \n",
    "print(\"Initial queue\")\n",
    "print(queue)\n",
    "  \n",
    "# Removing elements from the queue\n",
    "print(\"\\nElements dequeued from queue\")\n",
    "print(queue.pop())\n",
    "print(queue.pop())\n",
    "print(queue.pop())\n",
    "  \n",
    "print(\"\\nQueue after removing elements\")\n",
    "print(queue)\n",
    "  \n",
    "# Uncommenting print(queue.pop(0))\n",
    "# will raise and IndexError"
   ]
  },
  {
   "cell_type": "markdown",
   "id": "d00a9262",
   "metadata": {},
   "source": [
    "<h3>Updating Elements using List</h3>"
   ]
  },
  {
   "cell_type": "code",
   "execution_count": null,
   "id": "c17546d4",
   "metadata": {},
   "outputs": [],
   "source": [
    "que_lis = [1,2,3,4,5,6,7,8,9,20]\n",
    "print(\"Original List:\",que_lis)\n",
    "\n",
    "#updating element\n",
    "que_lis[-1] = 10\n",
    "print(\"After Updation List:\",que_lis)\n",
    "\n",
    "print(\"\\n\")\n",
    "\n",
    "#using function\n",
    "que_lis = [1,2,3,4,5,6,7,8,9,20]\n",
    "print(\"Original List:\",que_lis)\n",
    "\n",
    "def update(data,value):\n",
    "    for i in range(0,len(que_lis)):\n",
    "        if que_lis[i] == data:\n",
    "            que_lis[i] = value\n",
    "    return que_lis\n",
    "\n",
    "print(update(1,16))"
   ]
  },
  {
   "cell_type": "markdown",
   "id": "c822a832",
   "metadata": {},
   "source": [
    "<h3>Sorting Elements using List</h3>"
   ]
  },
  {
   "cell_type": "code",
   "execution_count": null,
   "id": "7e9fab75",
   "metadata": {},
   "outputs": [],
   "source": [
    "Q_lis = [5,3,17,22,12,34,23,15]\n",
    "print(Q_lis)\n",
    "\n",
    "def sort_lis():\n",
    "    Q_lis.sort()\n",
    "    return Q_lis\n",
    "\n",
    "print(sort_lis())"
   ]
  },
  {
   "cell_type": "markdown",
   "id": "cfd61189",
   "metadata": {},
   "source": [
    "<h2>Implementing QUEUE using collections.deque</h2>"
   ]
  },
  {
   "cell_type": "code",
   "execution_count": 2,
   "id": "ff08be50",
   "metadata": {},
   "outputs": [
    {
     "name": "stdout",
     "output_type": "stream",
     "text": [
      "Initial queue\n",
      "deque(['a', 'b', 'c'])\n",
      "\n",
      "Elements dequeued from the queue\n",
      "a\n",
      "b\n",
      "c\n",
      "\n",
      "Queue after removing elements\n",
      "deque([])\n"
     ]
    }
   ],
   "source": [
    "# Python program to\n",
    "# demonstrate queue implementation\n",
    "# using collections.dequeue\n",
    "  \n",
    "\n",
    "from collections import deque\n",
    "  \n",
    "# Initializing a queue\n",
    "q = deque()\n",
    "  \n",
    "# Adding elements to a queue\n",
    "q.append('a')\n",
    "q.append('b')\n",
    "q.append('c')\n",
    "  \n",
    "print(\"Initial queue\")\n",
    "print(q)\n",
    "  \n",
    "# Removing elements from a queue\n",
    "print(\"\\nElements dequeued from the queue\")\n",
    "print(q.popleft())\n",
    "print(q.popleft())\n",
    "print(q.popleft())\n",
    "  \n",
    "print(\"\\nQueue after removing elements\")\n",
    "print(q)\n",
    "  \n",
    "# Uncommenting q.popleft()\n",
    "# will raise an IndexError\n",
    "# as queue is now empty"
   ]
  },
  {
   "cell_type": "code",
   "execution_count": 6,
   "id": "dc0fe9a9",
   "metadata": {},
   "outputs": [
    {
     "name": "stdout",
     "output_type": "stream",
     "text": [
      "Initial queue\n",
      "deque([300, 200, 100])\n",
      "\n",
      "Elements dequeued from the queue\n",
      "100\n",
      "200\n",
      "300\n",
      "\n",
      "Queue after removing elements\n",
      "deque([])\n"
     ]
    }
   ],
   "source": [
    "# Python program to\n",
    "# demonstrate queue implementation\n",
    "# using collections.dequeue\n",
    "  \n",
    "\n",
    "from collections import deque\n",
    "  \n",
    "# Initializing a queue\n",
    "q = deque()\n",
    "  \n",
    "# Adding elements to a queue\n",
    "q.appendleft(100)\n",
    "q.appendleft(200)\n",
    "q.appendleft(300)\n",
    "  \n",
    "print(\"Initial queue\")\n",
    "print(q)\n",
    "  \n",
    "# Removing elements from a queue\n",
    "print(\"\\nElements dequeued from the queue\")\n",
    "print(q.pop())\n",
    "print(q.pop())\n",
    "print(q.pop())\n",
    "  \n",
    "print(\"\\nQueue after removing elements\")\n",
    "print(q)\n",
    "  \n",
    "# Uncommenting q.popleft()\n",
    "# will raise an IndexError\n",
    "# as queue is now empty"
   ]
  },
  {
   "cell_type": "markdown",
   "id": "e5410e0c",
   "metadata": {},
   "source": [
    "<h2>Implementing QUEUE using queue.Queue</h2>"
   ]
  },
  {
   "cell_type": "code",
   "execution_count": 7,
   "id": "a47f3a67",
   "metadata": {},
   "outputs": [
    {
     "name": "stdout",
     "output_type": "stream",
     "text": [
      "0\n",
      "\n",
      "Full:  True\n",
      "\n",
      "Elements dequeued from the queue\n",
      "a\n",
      "b\n",
      "c\n",
      "d\n",
      "\n",
      "Empty:  True\n",
      "\n",
      "Empty:  False\n",
      "Full:  False\n"
     ]
    }
   ],
   "source": [
    "# Python program to\n",
    "# demonstrate implementation of\n",
    "# queue using queue module\n",
    "  \n",
    "from queue import Queue\n",
    "  \n",
    "# Initializing a queue\n",
    "q = Queue(maxsize = 4)\n",
    "  \n",
    "# qsize() give the maxsize \n",
    "# of the Queue \n",
    "print(q.qsize()) \n",
    "  \n",
    "# Adding of element to queue\n",
    "q.put('a')\n",
    "q.put('b')\n",
    "q.put('c')\n",
    "q.put('d')\n",
    "  \n",
    "# Return Boolean for Full \n",
    "# Queue \n",
    "print(\"\\nFull: \", q.full()) \n",
    "  \n",
    "# Removing element from queue\n",
    "print(\"\\nElements dequeued from the queue\")\n",
    "print(q.get())\n",
    "print(q.get())\n",
    "print(q.get())\n",
    "print(q.get())\n",
    "  \n",
    "# Return Boolean for Empty \n",
    "# Queue \n",
    "print(\"\\nEmpty: \", q.empty())\n",
    "  \n",
    "q.put(1)\n",
    "print(\"\\nEmpty: \", q.empty()) \n",
    "print(\"Full: \", q.full())\n",
    "  \n",
    "# This would result into Infinite \n",
    "# Loop as the Queue is empty. \n",
    "# print(q.get())"
   ]
  },
  {
   "cell_type": "markdown",
   "id": "f7bd0fdc",
   "metadata": {},
   "source": [
    "<h3>Updating Elements using deque</h3>"
   ]
  },
  {
   "cell_type": "code",
   "execution_count": 9,
   "id": "59bb9285",
   "metadata": {},
   "outputs": [
    {
     "name": "stdout",
     "output_type": "stream",
     "text": [
      "Original List: deque([1, 2, 3, 4, 5, 6, 7, 8, 9, 20])\n",
      "After Updation List: deque([1, 2, 3, 4, 5, 6, 7, 8, 9, 10])\n",
      "\n",
      "\n",
      "Original List: deque([1, 2, 3, 4, 5, 6, 7, 8, 9, 20])\n",
      "deque([1, 2, 3, 4, 5, 6, 7, 8, 9, 10])\n"
     ]
    }
   ],
   "source": [
    "que_deq =deque([1,2,3,4,5,6,7,8,9,20])\n",
    "print(\"Original List:\",que_deq)\n",
    "\n",
    "#updating element\n",
    "que_deq[-1] = 10\n",
    "print(\"After Updation List:\",que_deq)\n",
    "\n",
    "print(\"\\n\")\n",
    "\n",
    "#using function\n",
    "que_deq = deque([1,2,3,4,5,6,7,8,9,20])\n",
    "print(\"Original List:\",que_deq)\n",
    "\n",
    "def update(data,value):\n",
    "    for i in range(0,len(que_deq)):\n",
    "        if que_deq[i] == data:\n",
    "            que_deq[i] = value\n",
    "    return que_deq\n",
    "\n",
    "print(update(20,10))"
   ]
  },
  {
   "cell_type": "markdown",
   "id": "e127d106",
   "metadata": {},
   "source": [
    "<h3>Sorting Elements using deque</h3>"
   ]
  },
  {
   "cell_type": "code",
   "execution_count": 10,
   "id": "45734f40",
   "metadata": {},
   "outputs": [
    {
     "name": "stdout",
     "output_type": "stream",
     "text": [
      "Before Sorting: deque([5, 3, 17, 22, 12, 34, 23, 15])\n",
      "After sorting: deque([3, 5, 12, 15, 17, 22, 23, 34])\n"
     ]
    }
   ],
   "source": [
    "Q_deq = deque([5,3,17,22,12,34,23,15])  #deque()\n",
    "print(\"Before Sorting:\",Q_deq)\n",
    "\n",
    "sample = [] #[5,3,17,22,12,34,23,15]  #[3,5,12,15,17,22,23,34]\n",
    "def sort_deq():\n",
    "    for i in range(len(Q_deq)):\n",
    "        x = Q_deq.popleft()\n",
    "        sample.append(x)\n",
    "    sample.sort()\n",
    "    for i in sample:\n",
    "        Q_deq.append(i)\n",
    "    return Q_deq\n",
    "print(\"After sorting:\",sort_deq())"
   ]
  },
  {
   "cell_type": "markdown",
   "id": "623284be",
   "metadata": {},
   "source": [
    "<h2>Implementing QUEUE using Arrays</h2>"
   ]
  },
  {
   "cell_type": "code",
   "execution_count": null,
   "id": "0840c901",
   "metadata": {},
   "outputs": [],
   "source": [
    "import array as arr\n",
    "\n",
    "que_arr = arr.array('i',[1,2,3,4,5,6,7,8,9,10])\n",
    "\n",
    "#reading\n",
    "print(\"Original Queue:\",que_arr)\n",
    "print(\"\\n\")\n",
    "\n",
    "#inserting elements\n",
    "que_arr.append(11)\n",
    "que_arr.append(12)\n",
    "que_arr.append(13)\n",
    "print(\"After insertion:\",que_arr)\n",
    "print(\"\\n\")\n",
    "\n",
    "#Deleting elements\n",
    "que_arr.pop(0)\n",
    "\n",
    "\n",
    "print(\"After Deletion:\",que_arr)"
   ]
  },
  {
   "cell_type": "markdown",
   "id": "10af2584",
   "metadata": {},
   "source": [
    "<h3>Updating Elements using arrays</h3>"
   ]
  },
  {
   "cell_type": "code",
   "execution_count": null,
   "id": "c1c7acdc",
   "metadata": {},
   "outputs": [],
   "source": [
    "import array as arr\n",
    "\n",
    "que_arr = arr.array('i',[1,2,5,4,5])\n",
    "print(\"original Queue:\",que_arr)\n",
    "\n",
    "def update(data,value):\n",
    "    ind = que_arr.index(data)\n",
    "    que_arr[ind] = value\n",
    "    \n",
    "    for i in que_arr:\n",
    "        print(i, end=\" \")\n",
    "        \n",
    "update(5,3)"
   ]
  },
  {
   "cell_type": "markdown",
   "id": "90cd1165",
   "metadata": {},
   "source": [
    "<h3>Sorting Elements using arrays</h3>"
   ]
  },
  {
   "cell_type": "code",
   "execution_count": null,
   "id": "1d1a1fd8",
   "metadata": {},
   "outputs": [],
   "source": [
    "Q_arr = arr.array('i',[5,3,17,22,12,34,23,15])\n",
    "print(\"Before Sorting:\",Q_arr)\n",
    "\n",
    "sample = []\n",
    "def sort_arr():\n",
    "    for i in range(0,len(Q_arr)):\n",
    "        x = Q_arr.pop()\n",
    "        sample.append(x)\n",
    "    sample.sort()\n",
    "    for i in sample:\n",
    "        Q_arr.append(i)\n",
    "    return Q_arr\n",
    "print(sort_arr())"
   ]
  },
  {
   "cell_type": "markdown",
   "id": "c1537546",
   "metadata": {},
   "source": [
    "# Priority Queue"
   ]
  },
  {
   "cell_type": "code",
   "execution_count": 6,
   "id": "1e800866",
   "metadata": {},
   "outputs": [
    {
     "name": "stdout",
     "output_type": "stream",
     "text": [
      "Original List: [20, 10, 40, 60, 30]\n",
      "Sorted List: [60, 40, 30, 20, 10]\n",
      "60\n",
      "40\n",
      "30\n",
      "20\n",
      "10\n",
      "After deleting: []\n"
     ]
    }
   ],
   "source": [
    "#implementing using list\n",
    "\n",
    "l = []\n",
    "\n",
    "l.append(20)\n",
    "l.append(10)\n",
    "l.append(40)\n",
    "l.append(60)\n",
    "l.append(30)\n",
    "print(\"Original List:\",l)\n",
    "\n",
    "l.sort(reverse=True)  #Descending\n",
    "print(\"Sorted List:\",l)\n",
    "\n",
    "print(l.pop(0))\n",
    "print(l.pop(0))\n",
    "print(l.pop(0))\n",
    "print(l.pop(0))\n",
    "print(l.pop(0))\n",
    "print(\"After deleting:\",l)"
   ]
  },
  {
   "cell_type": "code",
   "execution_count": 7,
   "id": "f3a68276",
   "metadata": {},
   "outputs": [
    {
     "name": "stdout",
     "output_type": "stream",
     "text": [
      "10\n",
      "20\n",
      "20\n",
      "30\n",
      "50\n",
      "60\n"
     ]
    }
   ],
   "source": [
    "#implementing using Queue.priorityQueue()\n",
    "import queue\n",
    "\n",
    "q = queue.PriorityQueue()\n",
    "q.put(20)\n",
    "q.put(10)\n",
    "q.put(20)\n",
    "q.put(60)\n",
    "q.put(30)\n",
    "q.put(50)\n",
    "\n",
    "print(q.get())\n",
    "print(q.get())\n",
    "print(q.get())\n",
    "print(q.get())\n",
    "print(q.get())\n",
    "print(q.get())"
   ]
  },
  {
   "cell_type": "code",
   "execution_count": null,
   "id": "50a69fa7",
   "metadata": {},
   "outputs": [],
   "source": []
  }
 ],
 "metadata": {
  "kernelspec": {
   "display_name": "Python 3 (ipykernel)",
   "language": "python",
   "name": "python3"
  },
  "language_info": {
   "codemirror_mode": {
    "name": "ipython",
    "version": 3
   },
   "file_extension": ".py",
   "mimetype": "text/x-python",
   "name": "python",
   "nbconvert_exporter": "python",
   "pygments_lexer": "ipython3",
   "version": "3.10.4"
  }
 },
 "nbformat": 4,
 "nbformat_minor": 5
}
